{
 "cells": [
  {
   "cell_type": "code",
   "execution_count": 6,
   "metadata": {},
   "outputs": [
    {
     "data": {
      "text/plain": [
       "0.11950000000000001"
      ]
     },
     "execution_count": 6,
     "metadata": {},
     "output_type": "execute_result"
    }
   ],
   "source": [
    "import numpy as np\n",
    "\"\"\"\n",
    "t  : 진짜 답 \n",
    "y :  계산된 결과 값 \n",
    "print(t)\n",
    "print(y)\n",
    "print(np.array(t) - np..array(y))\n",
    "print((np.array(t) - np.array(y)) ** 2)\n",
    "print(sum((np.array(t) - np.array(y)) ** 2))\n",
    "print(sum((np.array(t) - np.array(y)) ** 2)/len(y))\n",
    "\"\"\"\n",
    "\n",
    "\n",
    "\"\"\"\n",
    "t는 정답, 2가 실제 값\n",
    "\"\"\"\n",
    "\n",
    "def mean_square_error(y, t):\n",
    "    return (np.sum( (y - t)**2) / len(y))\n",
    "\"\"\"\n",
    "t is tuple, so change to array using np.array()\n",
    "\"\"\"\n",
    "t = [0, 0, 1, 0, 0, 0, 0, 0, 0, 0]\n",
    "y = [.1, .05, .1, .0, .05, .1, .0, .6, .0, .0]\n",
    "\n",
    "mean_square_error(np.array(t), np.array(y))\n"
   ]
  },
  {
   "cell_type": "code",
   "execution_count": 7,
   "metadata": {},
   "outputs": [
    {
     "name": "stdout",
     "output_type": "stream",
     "text": [
      "[0, 0, 1, 0, 0, 0, 0, 0, 0, 0]\n",
      "[0.1, 0.05, 0.1, 0.0, 0.05, 0.1, 0.0, 0.6, 0.0, 0.0]\n",
      "[-0.1  -0.05  0.9   0.   -0.05 -0.1   0.   -0.6   0.    0.  ]\n",
      "[0.01   0.0025 0.81   0.     0.0025 0.01   0.     0.36   0.     0.    ]\n",
      "1.1949999999999998\n",
      "0.11949999999999998\n"
     ]
    }
   ],
   "source": [
    "print(t)\n",
    "print(y)\n",
    "print(np.array(t) - np.array(y))\n",
    "print((np.array(t) - np.array(y)) ** 2)\n",
    "print(sum((np.array(t) - np.array(y)) ** 2))\n",
    "print(sum((np.array(t) - np.array(y)) ** 2) / len(y))"
   ]
  },
  {
   "cell_type": "code",
   "execution_count": 8,
   "metadata": {},
   "outputs": [
    {
     "data": {
      "text/plain": [
       "0.019500000000000007"
      ]
     },
     "execution_count": 8,
     "metadata": {},
     "output_type": "execute_result"
    }
   ],
   "source": [
    "\"\"\"\n",
    "2일 확률이 커지고 8일 확률이 적어짐, \n",
    "MST값도 1/10로 줄어듬, 오차를 줄여가는 과정이 학습이 이루어지는 과정\n",
    "w값과 b값을 계속해서 바꿔줌\n",
    "--> w와 b값을 작게 바꿔줬더니 오차가 작아졌다 --> 올바른 방향이구나\n",
    "계속해서 진행하자\n",
    "\"\"\"\n",
    "y = [.1, .05, .6, .0, .05, .1, .0, .1, .0, .0]\n",
    "mean_square_error(np.array(t), np.array(y))"
   ]
  },
  {
   "cell_type": "code",
   "execution_count": 11,
   "metadata": {},
   "outputs": [
    {
     "data": {
      "text/plain": [
       "2.302584092994546"
      ]
     },
     "execution_count": 11,
     "metadata": {},
     "output_type": "execute_result"
    }
   ],
   "source": [
    "\"\"\" Cross Entropy Error(교차 엔트로피 오차)\n",
    "\"\"\"\n",
    "def cross_entropy_error(y, t):\n",
    "    delta = 10**-7\n",
    "    return -np.sum(t*np.log(y+delta))\n",
    "\n",
    "y = [.1, .05, .1, .0, .05, .1, .0, .6, .0, .0]\n",
    "cross_entropy_error(np.array(y), np.array(t))\n"
   ]
  },
  {
   "cell_type": "code",
   "execution_count": 15,
   "metadata": {},
   "outputs": [
    {
     "data": {
      "text/plain": [
       "2.302584092994546"
      ]
     },
     "execution_count": 15,
     "metadata": {},
     "output_type": "execute_result"
    }
   ],
   "source": [
    "y5 = [.1, .05, .1, .0, .05, .1, .0, .4, .2, .0]\n",
    "cross_entropy_error(np.array(y1), np.array(t))\n"
   ]
  },
  {
   "cell_type": "code",
   "execution_count": 14,
   "metadata": {},
   "outputs": [
    {
     "data": {
      "text/plain": [
       "0.510825457099338"
      ]
     },
     "execution_count": 14,
     "metadata": {},
     "output_type": "execute_result"
    }
   ],
   "source": [
    "y57 = [.1, .05, .6, .0, .05, .1, .0, .1, .2, .0]\n",
    "cross_entropy_error(np.array(y57), np.array(t))"
   ]
  },
  {
   "cell_type": "code",
   "execution_count": null,
   "metadata": {},
   "outputs": [],
   "source": []
  }
 ],
 "metadata": {
  "kernelspec": {
   "display_name": "Python 3",
   "language": "python",
   "name": "python3"
  },
  "language_info": {
   "codemirror_mode": {
    "name": "ipython",
    "version": 3
   },
   "file_extension": ".py",
   "mimetype": "text/x-python",
   "name": "python",
   "nbconvert_exporter": "python",
   "pygments_lexer": "ipython3",
   "version": "3.6.9"
  }
 },
 "nbformat": 4,
 "nbformat_minor": 2
}
